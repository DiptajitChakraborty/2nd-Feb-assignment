{
 "cells": [
  {
   "cell_type": "code",
   "execution_count": 5,
   "id": "699c189e-2146-482f-b6d9-26405ae0a5e6",
   "metadata": {},
   "outputs": [
    {
     "name": "stdout",
     "output_type": "stream",
     "text": [
      "0\n",
      "1\n",
      "2\n",
      "3\n",
      "4\n",
      "5\n",
      "6\n",
      "7\n",
      "8\n",
      "9\n",
      "0\n",
      "1\n",
      "2\n",
      "3\n",
      "4\n",
      "5\n",
      "6\n",
      "7\n",
      "8\n",
      "9\n"
     ]
    }
   ],
   "source": [
    "#Q1\n",
    "#We use for loop when we know that the loop should execute n times and we use while loop for reading file into a variable.\n",
    "#Example of for loop \n",
    "for i in range(10):\n",
    "    print(i)\n",
    "#Example of while loop\n",
    "count = 0\n",
    "while count <10:\n",
    "    print(count)\n",
    "    count = count +1"
   ]
  },
  {
   "cell_type": "code",
   "execution_count": 10,
   "id": "10d9396e-7daa-47c6-b905-a556c9eafa79",
   "metadata": {},
   "outputs": [
    {
     "name": "stdout",
     "output_type": "stream",
     "text": [
      "55\n",
      "3628800\n",
      "55\n",
      "3628800\n"
     ]
    }
   ],
   "source": [
    "#Sum and product of the first 10 natural loops using for loop\n",
    "sum =0\n",
    "prod =1\n",
    "for i in range(1,11):\n",
    "    sum = sum +i\n",
    "    prod =prod *i\n",
    "print(sum)\n",
    "print(prod)\n",
    "\n",
    "#Sum and product of the first 10 natural loops using while loop\n",
    "sum1=0\n",
    "prod1=1\n",
    "count= 1\n",
    "while count <11:\n",
    "    sum1= sum1+count\n",
    "    prod1 = prod1 *count\n",
    "    count = count +1\n",
    "print(sum1)\n",
    "print(prod1)"
   ]
  },
  {
   "cell_type": "code",
   "execution_count": 16,
   "id": "5361f241-f599-454a-a097-de27b590f871",
   "metadata": {},
   "outputs": [
    {
     "name": "stdin",
     "output_type": "stream",
     "text": [
      "Enter the input 310\n"
     ]
    },
    {
     "name": "stdout",
     "output_type": "stream",
     "text": [
      "The total electricity bill is : 2250.0\n"
     ]
    }
   ],
   "source": [
    "n = int(input(\"Enter the input\"))\n",
    "if n <=100 :\n",
    "    print(\"The total electricity bill is \", n*4.5)\n",
    "elif n >100 and n<=200:\n",
    "    print(\"The total electricity bill is : \", 100 *4.5+(n-100)*6)\n",
    "elif n >200 and n <=300:\n",
    "    print(\"The total electricity bill is :\",100*4.5 + 100*6+ (n-200)*10)\n",
    "elif n >300:\n",
    "    print(\"The total electricity bill is :\",100*4.5 + 100*6+100*10+ (n-300)*20)\n",
    "        "
   ]
  },
  {
   "cell_type": "code",
   "execution_count": 23,
   "id": "a1b1641b-2e0d-40fb-bbf1-bda90454e400",
   "metadata": {},
   "outputs": [
    {
     "name": "stdout",
     "output_type": "stream",
     "text": [
      "The cube of the list is \n",
      " [0, 1, 8, 27, 64, 125, 216, 343, 512, 729, 1000, 1331, 1728, 2197, 2744, 3375, 4096, 4913, 5832, 6859, 8000, 9261, 10648, 12167, 13824, 15625, 17576, 19683, 21952, 24389, 27000, 29791, 32768, 35937, 39304, 42875, 46656, 50653, 54872, 59319, 64000, 68921, 74088, 79507, 85184, 91125, 97336, 103823, 110592, 117649, 125000, 132651, 140608, 148877, 157464, 166375, 175616, 185193, 195112, 205379, 216000, 226981, 238328, 250047, 262144, 274625, 287496, 300763, 314432, 328509, 343000, 357911, 373248, 389017, 405224, 421875, 438976, 456533, 474552, 493039, 512000, 531441, 551368, 571787, 592704, 614125, 636056, 658503, 681472, 704969, 729000, 753571, 778688, 804357, 830584, 857375, 884736, 912673, 941192, 970299, 1000000]\n",
      "\n",
      "The list divisible by 4 and 5 is \n",
      " [0, 1000, 8000, 27000, 64000, 125000, 216000, 343000, 512000, 729000, 1000000]\n"
     ]
    }
   ],
   "source": [
    "l =list(range(101))\n",
    "l1=[]\n",
    "l2=[]\n",
    "for i in l:\n",
    "    l1.append(i**3)\n",
    "print(\"The cube of the list is \\n\",l1)\n",
    "for i in l1:\n",
    "    if i %4 ==0 and i%5 ==0:\n",
    "        l2.append(i)\n",
    "print(\"\\nThe list divisible by 4 and 5 is \\n\",l2)"
   ]
  },
  {
   "cell_type": "code",
   "execution_count": 33,
   "id": "1acc1edf-66b7-4c29-b0c2-983732faab46",
   "metadata": {},
   "outputs": [
    {
     "data": {
      "text/plain": [
       "11"
      ]
     },
     "execution_count": 33,
     "metadata": {},
     "output_type": "execute_result"
    }
   ],
   "source": [
    "count =0\n",
    "s1 =\"I want to become a data scientist\"\n",
    "for i in s1:\n",
    "    if i == 'a'or i =='e'or i =='i'or i =='o'or i =='u':\n",
    "        count = count +1\n",
    "print(\"the numcount\n"
   ]
  },
  {
   "cell_type": "code",
   "execution_count": null,
   "id": "6a79a9d9-f0d9-4863-bde2-9e8d36d61a7f",
   "metadata": {},
   "outputs": [],
   "source": []
  }
 ],
 "metadata": {
  "kernelspec": {
   "display_name": "Python 3 (ipykernel)",
   "language": "python",
   "name": "python3"
  },
  "language_info": {
   "codemirror_mode": {
    "name": "ipython",
    "version": 3
   },
   "file_extension": ".py",
   "mimetype": "text/x-python",
   "name": "python",
   "nbconvert_exporter": "python",
   "pygments_lexer": "ipython3",
   "version": "3.10.8"
  }
 },
 "nbformat": 4,
 "nbformat_minor": 5
}
